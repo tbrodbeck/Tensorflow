{
 "cells": [
  {
   "cell_type": "markdown",
   "metadata": {},
   "source": [
    "# 3 Helper File\n",
    "\n",
    "This week, you must use the python script from studip (04 svhn-helper.py) to read-in the data. The script converts the data into gray-scale images, splits the data into a training and validation dataset and provides a class to loop over the respective mini-batches. Be fair to the other groups and do not use the test dataset from the SVHN homepage to optimize your network."
   ]
  },
  {
   "cell_type": "code",
   "execution_count": null,
   "metadata": {
    "collapsed": true
   },
   "outputs": [],
   "source": [
    "import os\n",
    "import numpy as np\n",
    "import scipy.io as scio\n",
    "\n",
    "class SVHN():\n",
    "    def __init__(self, directory = \"./\"):\n",
    "        self._directory = directory\n",
    "        \n",
    "        self._training_data = np.array([])\n",
    "        self._training_labels = np.array([])\n",
    "        self._test_data = np.array([])\n",
    "        self._test_labels = np.array([])\n",
    "        \n",
    "        self._load_traing_data()\n",
    "        #self._load_test_data()\n",
    "        \n",
    "        np.random.seed(0)\n",
    "        samples_n = self._training_labels.shape[0]\n",
    "        random_indices = np.random.choice(samples_n, samples_n // 10, replace = False)\n",
    "        np.random.seed()\n",
    "        \n",
    "        self._validation_data = self._training_data[random_indices]\n",
    "        self._validation_labels = self._training_labels[random_indices]\n",
    "        self._training_data = np.delete(self._training_data, random_indices, axis = 0)\n",
    "        self._training_labels = np.delete(self._training_labels, random_indices)\n",
    "    \n",
    "    \n",
    "    def _load_traing_data(self):\n",
    "        self._training_data, self._training_labels = self._load_data(\"train_32x32.mat\")        \n",
    "    \n",
    "    def _load_test_data(self):\n",
    "        self._test_data, self._test_labels = self._load_data(\"test_32x32.mat\")\n",
    "    \n",
    "    def _rgb2gray(self, rgb):\n",
    "        return np.dot(rgb[...,:3], [0.299, 0.587, 0.114])\n",
    "    \n",
    "    def _load_data(self, file):\n",
    "        path = os.path.join(self._directory, file)\n",
    "        \n",
    "        mat = scio.loadmat(path)\n",
    "        data = np.moveaxis(mat[\"X\"], 3, 0)\n",
    "        data = self._rgb2gray(data)\n",
    "        data = data.reshape(data.shape + (1,))\n",
    "        \n",
    "        labels = mat[\"y\"].reshape(mat[\"y\"].shape[0])\n",
    "        labels[labels == 10] = 0\n",
    "        \n",
    "        return data, labels\n",
    "    \n",
    "    def get_training_batch(self, batch_size):\n",
    "        return self._get_batch(self._training_data, self._training_labels, batch_size)\n",
    "    \n",
    "    def get_validation_batch(self, batch_size):\n",
    "        return self._get_batch(self._validation_data, self._validation_labels, batch_size)\n",
    "    \n",
    "    #def get_test_batch(self, batch_size):\n",
    "    #    return self._get_batch(self._test_data, self._test_labels, batch_size)\n",
    "    \n",
    "    def _get_batch(self, data, labels, batch_size):\n",
    "        samples_n = labels.shape[0]\n",
    "        \n",
    "        if batch_size <= 0:\n",
    "            batch_size = samples_n\n",
    "        \n",
    "        random_indices = np.random.choice(samples_n, samples_n, replace = False)\n",
    "        data = data[random_indices]\n",
    "        labels = labels[random_indices]\n",
    "        for i in range(samples_n // batch_size):\n",
    "            on = i * batch_size\n",
    "            off = on + batch_size\n",
    "            yield data[on:off], labels[on:off]\n",
    "    \n",
    "    \n",
    "    def get_sizes(self):\n",
    "        training_samples_n = self._training_labels.shape[0]\n",
    "        validation_samples_n = self._validation_labels.shape[0]\n",
    "        test_samples_n = self._test_labels.shape[0]\n",
    "        return training_samples_n, validation_samples_n, test_samples_n\n",
    "    \n"
   ]
  },
  {
   "cell_type": "markdown",
   "metadata": {},
   "source": [
    "# 4 Investigate the data\n",
    "\n",
    "As always, before you start, get an idea about how the data looks like, how the batches are structured and if the labels are assigned correctly."
   ]
  },
  {
   "cell_type": "code",
   "execution_count": null,
   "metadata": {},
   "outputs": [],
   "source": [
    "import tensorflow as tf\n",
    "import matplotlib.pyplot as plt\n",
    "%matplotlib notebook\n",
    "\n",
    "svhn = SVHN()"
   ]
  },
  {
   "cell_type": "code",
   "execution_count": null,
   "metadata": {},
   "outputs": [],
   "source": [
    "# retrieve training batch\n",
    "images, label = next(svhn.get_training_batch(15))\n",
    "\n",
    "# creating plot\n",
    "fig, axs = plt.subplots(3, 5)\n",
    "for i, ax in enumerate(np.reshape(axs, [-1])):\n",
    "    ax.imshow(np.squeeze(images[i,:,:,:]), cmap = 'gray')\n",
    "    ax.set_title(str(label[i]))\n",
    "plt.suptitle('original data')\n",
    "plt.show\n",
    "\n",
    "# how the data looks like after we preprocessed it (cut off the sides)\n",
    "fig, axs = plt.subplots(3, 5)\n",
    "for i, ax in enumerate(np.reshape(axs, [-1])):\n",
    "    ax.imshow(np.squeeze(images[i,:,6:-6,:]), cmap = 'gray')  # this is how we will preprocess out data\n",
    "    ax.set_title(str(label[i]))\n",
    "plt.suptitle('preprocessed data')    \n",
    "plt.show"
   ]
  },
  {
   "cell_type": "code",
   "execution_count": null,
   "metadata": {
    "collapsed": true
   },
   "outputs": [],
   "source": [
    "with tf.Session() as session:\n",
    "    saver = tf.train.Saver()\n",
    "    saver.restore(session,  tf.train.latest_checkpoint(\"./weights/\"))\n",
    "    \n",
    "    test_accuracy = 0\n",
    "    for step, (images, labels) in enumerate(svhn.get_test_batch(300)):\n",
    "        test_accuracy += session.run(\n",
    "            accuracy,\n",
    "            feed_dict = {x: images, desired: labels}\n",
    "        )\n",
    "    \n",
    "print(\"Test Accuracy: \" + str(test_accuracy / step))"
   ]
  }
 ],
 "metadata": {
  "kernelspec": {
   "display_name": "Python 3",
   "language": "python",
   "name": "python3"
  },
  "language_info": {
   "codemirror_mode": {
    "name": "ipython",
    "version": 3
   },
   "file_extension": ".py",
   "mimetype": "text/x-python",
   "name": "python",
   "nbconvert_exporter": "python",
   "pygments_lexer": "ipython3",
   "version": "3.6.1"
  }
 },
 "nbformat": 4,
 "nbformat_minor": 2
}
