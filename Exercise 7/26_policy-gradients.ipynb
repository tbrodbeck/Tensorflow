{
 "cells": [
  {
   "cell_type": "markdown",
   "metadata": {},
   "source": [
    "# Assignment 7: Policy Gradients"
   ]
  },
  {
   "cell_type": "markdown",
   "metadata": {},
   "source": [
    "## 2. Data, OpenAI Gym"
   ]
  },
  {
   "cell_type": "code",
   "execution_count": 1,
   "metadata": {},
   "outputs": [
    {
     "ename": "ModuleNotFoundError",
     "evalue": "No module named 'gym'",
     "output_type": "error",
     "traceback": [
      "\u001b[1;31m---------------------------------------------------------------------------\u001b[0m",
      "\u001b[1;31mModuleNotFoundError\u001b[0m                       Traceback (most recent call last)",
      "\u001b[1;32m<ipython-input-1-43583b62fbeb>\u001b[0m in \u001b[0;36m<module>\u001b[1;34m()\u001b[0m\n\u001b[1;32m----> 1\u001b[1;33m \u001b[1;32mimport\u001b[0m \u001b[0mgym\u001b[0m\u001b[1;33m\u001b[0m\u001b[0m\n\u001b[0m\u001b[0;32m      2\u001b[0m \u001b[1;32mimport\u001b[0m \u001b[0mtensorflow\u001b[0m \u001b[1;32mas\u001b[0m \u001b[0mtf\u001b[0m\u001b[1;33m\u001b[0m\u001b[0m\n\u001b[0;32m      3\u001b[0m \u001b[1;32mimport\u001b[0m \u001b[0mnumpy\u001b[0m \u001b[1;32mas\u001b[0m \u001b[0mnp\u001b[0m\u001b[1;33m\u001b[0m\u001b[0m\n\u001b[0;32m      4\u001b[0m \u001b[1;32mimport\u001b[0m \u001b[0mmatplotlib\u001b[0m\u001b[1;33m.\u001b[0m\u001b[0mpyplot\u001b[0m \u001b[1;32mas\u001b[0m \u001b[0mplt\u001b[0m\u001b[1;33m\u001b[0m\u001b[0m\n",
      "\u001b[1;31mModuleNotFoundError\u001b[0m: No module named 'gym'"
     ]
    }
   ],
   "source": [
    "import gym\n",
    "import tensorflow as tf\n",
    "import numpy as np\n",
    "import matplotlib.pyplot as plt"
   ]
  },
  {
   "cell_type": "code",
   "execution_count": 2,
   "metadata": {
    "collapsed": true
   },
   "outputs": [],
   "source": [
    "# create new environment instance\n",
    "env = gym.make(\"CartPole-v0\")\n",
    "\n",
    "for episode in range(100):\n",
    "    # reset game\n",
    "    observation = env.reset()\n",
    "    done = False\n",
    "    \n",
    "    while not done:\n",
    "        # render current game state every 10th step\n",
    "        if episode % 10 == 0:\n",
    "            env.render()\n",
    "        \n",
    "        # create a random action\n",
    "        action = env.action_space.sample()\n",
    "        # execute action and receive the corresponding reward and a new observation\n",
    "        observation, reward, done, info = env.step(action)"
   ]
  },
  {
   "cell_type": "markdown",
   "metadata": {},
   "source": [
    "## 3. Network structure"
   ]
  },
  {
   "cell_type": "code",
   "execution_count": 3,
   "metadata": {
    "collapsed": true
   },
   "outputs": [],
   "source": [
    "tf.reset_default_graph()\n",
    "tf.set_random_seed(0)\n",
    "\n",
    "# define placeholder\n",
    "inputs = tf.placeholder(tf.float32, [1, 4])\n",
    "\n",
    "with tf.name_scope(\"fully-connected\"):\n",
    "    weights = tf.get_variable(\"weights\", [4, 8], tf.float32, initializer=tf.random_normal_initializer(stddev=2.0))\n",
    "    biases = tf.get_variable(\"biases\", [8], tf.float32, initializer=tf.constant_initializer(0.1))\n",
    "    activations = tf.nn.relu(tf.matmul(inputs, weights) + biases)\n",
    "\n",
    "with tf.name_scope(\"output\"):\n",
    "    weight = tf.get_variable(\"weight\", [8, 1], tf.float32, initializer=tf.random_normal_initializer(stddev=0.25))\n",
    "    bias = tf.get_variable(\"bias\", [1], tf.float32, initializer=tf.constant_initializer(0.0))\n",
    "    action_probability = tf.sigmoid(tf.matmul(activations, weight) + bias)\n",
    "\n",
    "# calc log likelihoods from probability distribution of both actions\n",
    "log_likelihoods = tf.log(tf.concat([action_probability, 1 - action_probability], axis=1))\n",
    "\n",
    "# sample an action from distribution\n",
    "action = tf.multinomial(log_likelihoods, num_samples=1)[0][0]\n",
    "\n",
    "# select value that corresponds to selected action\n",
    "log_likelihood = log_likelihoods[:, tf.to_int32(action)]"
   ]
  },
  {
   "cell_type": "markdown",
   "metadata": {},
   "source": [
    "## 4. Gradients"
   ]
  },
  {
   "cell_type": "code",
   "execution_count": 4,
   "metadata": {
    "collapsed": true
   },
   "outputs": [],
   "source": [
    "# training hyper-parameters\n",
    "episodes = 10\n",
    "batches = 40\n",
    "init_learning_rate = 0.1\n",
    "discount_factor = 0.98"
   ]
  },
  {
   "cell_type": "code",
   "execution_count": 5,
   "metadata": {
    "collapsed": true
   },
   "outputs": [],
   "source": [
    "# exponential decaying learning rate\n",
    "global_step = tf.Variable(0, trainable=False)\n",
    "learning_rate = tf.train.exponential_decay(init_learning_rate, global_step, 100, 0.3)\n",
    "optimizer = tf.train.AdamOptimizer(learning_rate)\n",
    "\n",
    "# compute gradients\n",
    "gradients_and_variables = optimizer.compute_gradients(log_likelihood)\n",
    "gradients = [gradient_and_variable[0] * -1 for gradient_and_variable in gradients_and_variables]\n",
    "\n",
    "# create placeholders\n",
    "gradient_placeholders = []\n",
    "for gradient in gradients:\n",
    "    gradient_placeholders.append(tf.placeholder(tf.float32, gradient.shape))\n",
    "\n",
    "# apply gradients\n",
    "trainable_variables = tf.trainable_variables()\n",
    "train = optimizer.apply_gradients(zip(gradient_placeholders, trainable_variables), global_step=global_step)"
   ]
  },
  {
   "cell_type": "markdown",
   "metadata": {},
   "source": [
    "## 5. Episode, Discounted Rewards, Policy Gradients"
   ]
  },
  {
   "cell_type": "code",
   "execution_count": 6,
   "metadata": {
    "collapsed": true,
    "scrolled": true
   },
   "outputs": [],
   "source": [
    "reward_history = []\n",
    "\n",
    "sess = tf.InteractiveSession()\n",
    "sess.run(tf.global_variables_initializer())\n",
    "\n",
    "for _ in range(batches):\n",
    "    policy_gradients = []\n",
    "    \n",
    "    for _ in range(episodes):\n",
    "        # reset game\n",
    "        observation = env.reset()\n",
    "        rewards = []\n",
    "        grads = []\n",
    "        done = False\n",
    "        train_step = 0\n",
    "\n",
    "        while not done:\n",
    "            # calc action and log likelihood\n",
    "            output, grad = sess.run([action, gradients], feed_dict={inputs: [observation]})\n",
    "            observation, reward, done, info = env.step(output)\n",
    "            \n",
    "            # buffer rewards and gradients\n",
    "            rewards.append(reward)\n",
    "            grads.append(grad)\n",
    "\n",
    "            train_step += 1\n",
    "\n",
    "        # discount and normalize rewards\n",
    "        reward_history.append(np.sum(rewards))\n",
    "        rewards = [rewards[i] * discount_factor**i for i in range(train_step)]\n",
    "        rewards = (rewards - np.mean(rewards)) / np.std(rewards)\n",
    "\n",
    "        # calc policy gradients\n",
    "        grads = [np.asarray(grads[i]) * rewards[i] for i in range(train_step)]\n",
    "        policy_gradients.append(np.sum(grads, axis=0))\n",
    "    \n",
    "    # apply policy gradients\n",
    "    for grads in policy_gradients:\n",
    "        sess.run(train, feed_dict={gradient_placeholders[0]: grads[0],\n",
    "                                   gradient_placeholders[1]: grads[1],\n",
    "                                   gradient_placeholders[2]: grads[2],\n",
    "                                   gradient_placeholders[3]: grads[3]})\n",
    "\n",
    "sess.close()"
   ]
  },
  {
   "cell_type": "markdown",
   "metadata": {},
   "source": [
    "## 9. Plotting"
   ]
  },
  {
   "cell_type": "code",
   "execution_count": 7,
   "metadata": {
    "scrolled": false
   },
   "outputs": [
    {
     "data": {
      "image/png": "[encoded data removed]",
      "text/plain": [
       "<matplotlib.figure.Figure at 0x7f3f025d4b38>"
      ]
     },
     "metadata": {},
     "output_type": "display_data"
    }
   ],
   "source": [
    "# plot reward over episodes\n",
    "plt.plot(range(batches * episodes), reward_history)\n",
    "plt.xlabel(\"Episode\")\n",
    "plt.ylabel(\"Reward\")\n",
    "plt.show()"
   ]
  }
 ],
 "metadata": {
  "kernelspec": {
   "display_name": "Python 3",
   "language": "python",
   "name": "python3"
  },
  "language_info": {
   "codemirror_mode": {
    "name": "ipython",
    "version": 3
   },
   "file_extension": ".py",
   "mimetype": "text/x-python",
   "name": "python",
   "nbconvert_exporter": "python",
   "pygments_lexer": "ipython3",
   "version": "3.6.3"
  }
 },
 "nbformat": 4,
 "nbformat_minor": 1
}
