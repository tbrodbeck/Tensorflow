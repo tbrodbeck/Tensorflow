{
 "cells": [
  {
   "cell_type": "code",
   "execution_count": 11,
   "metadata": {},
   "outputs": [],
   "source": [
    "import numpy as np\n",
    "import struct\n",
    "import os\n",
    "import tensorflow as tf\n",
    "import matplotlib.pyplot as plt\n",
    "import time"
   ]
  },
  {
   "cell_type": "code",
   "execution_count": 12,
   "metadata": {},
   "outputs": [],
   "source": [
    "''' Helper class '''\n",
    "\n",
    "\n",
    "class MNIST_GAN():\n",
    "    def __init__(self, directory=\"\"):\n",
    "        self._directory = directory\n",
    "\n",
    "        self._data = self._load_binaries(\"train-images-idx3-ubyte\")\n",
    "        self._data = np.append(self._data, self._load_binaries(\"t10k-images-idx3-ubyte\"), axis=0)\n",
    "        self._data = ((self._data / 255) * 2) - 1\n",
    "        self._data = self._data.reshape([-1, 28, 28, 1])\n",
    "\n",
    "    def _load_binaries(self, file_name):\n",
    "        path = os.path.join(self._directory, file_name)\n",
    "\n",
    "        with open(path, 'rb') as fd:\n",
    "            check, items_n = struct.unpack(\">ii\", fd.read(8))\n",
    "\n",
    "            if \"images\" in file_name and check == 2051:\n",
    "                height, width = struct.unpack(\">II\", fd.read(8))\n",
    "                images = np.fromfile(fd, dtype='uint8')\n",
    "                return np.reshape(images, (items_n, height, width))\n",
    "            else:\n",
    "                raise ValueError(\"Not a MNIST file: \" + path)\n",
    "\n",
    "    def get_batch(self, batch_size):\n",
    "        samples_n = self._data.shape[0]\n",
    "        if batch_size <= 0:\n",
    "            batch_size = samples_n\n",
    "\n",
    "        random_indices = np.random.choice(samples_n, samples_n, replace=False)\n",
    "        data = self._data[random_indices]\n",
    "\n",
    "        for i in range(samples_n // batch_size):\n",
    "            on = i * batch_size\n",
    "            off = on + batch_size\n",
    "            yield data[on:off]\n",
    "\n",
    "\n",
    "mnist_data = MNIST_GAN()"
   ]
  },
  {
   "cell_type": "code",
   "execution_count": 13,
   "metadata": {},
   "outputs": [
    {
     "name": "stdout",
     "output_type": "stream",
     "text": [
      "(28, 28)\n"
     ]
    },
    {
     "data": {
      "image/png": "[encoded data removed]",
      "text/plain": [
       "<matplotlib.figure.Figure at 0x1174e5dd8>"
      ]
     },
     "metadata": {},
     "output_type": "display_data"
    }
   ],
   "source": [
    "''' Investigate Data '''\n",
    "\n",
    "\n",
    "pixels = (mnist_data._data[0])\n",
    "pixels = np.squeeze(pixels)\n",
    "print(pixels.shape)\n",
    "plt.imshow(pixels, cmap='gray')\n",
    "plt.show()"
   ]
  },
  {
   "cell_type": "code",
   "execution_count": 14,
   "metadata": {},
   "outputs": [],
   "source": [
    "''' Layer functions '''\n",
    "\n",
    "\n",
    "def feed_forward_layer(x, target_size, normalize=False, activation_function=None):\n",
    "    print(\"Forward-Layer:\" + str(x.shape))\n",
    "\n",
    "    fan_in = int(x.shape[-1])\n",
    "\n",
    "    if activation_function == tf.nn.relu:\n",
    "        var_init = tf.random_normal_initializer(stddev=2 / fan_in)\n",
    "    else:\n",
    "        var_init = tf.random_normal_initializer(stddev=fan_in ** (-1 / 2))\n",
    "    weights = tf.get_variable(\"weights\", [x.shape[1], target_size], tf.float32, var_init)\n",
    "\n",
    "    var_init = tf.constant_initializer(0.0)\n",
    "    biases = tf.get_variable(\"biases\", [target_size], tf.float32, var_init)\n",
    "\n",
    "    activation = tf.matmul(x, weights) + biases\n",
    "\n",
    "    if normalize:\n",
    "        activation = batch_norm(activation, [0])\n",
    "\n",
    "    return activation_function(activation) if callable(activation_function) else activation\n",
    "\n",
    "\n",
    "def conv_layer(x, kernel_quantity, kernel_size, stride_size, normalize=False, activation_function=False):\n",
    "    print(\"Conv-Layer:\" + str(x.shape))\n",
    "    depth = x.shape[-1]\n",
    "    fan_in = int(x.shape[1] * x.shape[2])\n",
    "\n",
    "    if activation_function == tf.nn.relu or activation_function == tf.nn.leaky_relu:\n",
    "        var_init = tf.random_normal_initializer(stddev=2 / fan_in)\n",
    "    else:\n",
    "        var_init = tf.random_normal_initializer(stddev=fan_in ** (-1 / 2))\n",
    "    kernels = tf.get_variable(\"kernels\", [kernel_size, kernel_size, depth, kernel_quantity], tf.float32, var_init)\n",
    "\n",
    "    var_init = tf.constant_initializer(0.0)\n",
    "    biases = tf.get_variable(\"biases\", [kernel_quantity], initializer=var_init)\n",
    "\n",
    "    activation = tf.nn.conv2d(x, kernels, strides=[1, stride_size, stride_size, 1], padding=\"SAME\") + biases\n",
    "\n",
    "    if normalize:\n",
    "        activation = batch_norm(activation, [0, 1, 2])\n",
    "\n",
    "    return activation_function(activation) if callable(activation_function) else activation\n",
    "\n",
    "\n",
    "def back_conv_layer(x, target_shape, kernel_size, stride_size, normalize=False, activation_function=False):\n",
    "\n",
    "    print(\"Back-Conv-Layer:\" + str(x.shape))\n",
    "\n",
    "    depth = x.shape[-1]\n",
    "    maps = target_shape[3]\n",
    "    fan_in = int(x.shape[1] * x.shape[2])\n",
    "\n",
    "    # get the right initializer distribution according to activation function\n",
    "    if activation_function == tf.nn.relu:\n",
    "        var_init = tf.random_normal_initializer(stddev=2 / fan_in)\n",
    "    else:\n",
    "        var_init = tf.random_normal_initializer(stddev=fan_in ** (-1 / 2))\n",
    "\n",
    "    # initialize transposed conv weights\n",
    "    filters = tf.get_variable(\"filters\", [kernel_size[0], kernel_size[1], maps, depth], tf.float32, var_init)\n",
    "\n",
    "    # initialize trans conv biases\n",
    "    var_init = tf.constant_initializer(0.0)\n",
    "    biases = tf.get_variable(\"biases\", [maps], initializer=var_init)\n",
    "\n",
    "    # calculate trans conv\n",
    "    activation = tf.nn.conv2d_transpose(x, filters, target_shape, strides=[1, stride_size, stride_size, 1],\n",
    "                                        padding=\"SAME\") + biases\n",
    "    # normalize\n",
    "    if normalize:\n",
    "        activation = batch_norm(activation, [0, 1, 2])\n",
    "\n",
    "    return activation_function(activation) if callable(activation_function) else activation\n",
    "\n",
    "\n",
    "\n",
    "\n",
    "\n",
    "def flatten(x):\n",
    "    size = int(np.prod(x.shape[1:]))\n",
    "    return tf.reshape(x, [-1, size])\n",
    "\n",
    "\n",
    "def _pop_batch_norm(x, pop_mean, pop_var, offset, scale):\n",
    "    return tf.nn.batch_normalization(x, pop_mean, pop_var, offset, scale, 1e-6)\n",
    "\n",
    "\n",
    "def _batch_norm(x, pop_mean, pop_var, mean, var, offset, scale):\n",
    "    decay = 0.99\n",
    "\n",
    "    dependency_1 = tf.assign(pop_mean, pop_mean * decay + mean * (1 - decay))\n",
    "    dependency_2 = tf.assign(pop_var, pop_var * decay + var * (1 - decay))\n",
    "\n",
    "    with tf.control_dependencies([dependency_1, dependency_2]):\n",
    "        return tf.nn.batch_normalization(x, mean, var, offset, scale, 1e-6)\n",
    "\n",
    "\n",
    "def batch_norm(x, axes):\n",
    "    depth = x.shape[-1]\n",
    "    mean, var = tf.nn.moments(x, axes=axes)\n",
    "\n",
    "    var_init = tf.constant_initializer(0.0)\n",
    "    offset = tf.get_variable(\"offset\", [depth], tf.float32, var_init)\n",
    "    var_init = tf.constant_initializer(1.0)\n",
    "    scale = tf.get_variable(\"scale\", [depth], tf.float32, var_init)\n",
    "\n",
    "    pop_mean = tf.get_variable(\"pop_mean\", [depth], initializer=tf.zeros_initializer(), trainable=False)\n",
    "    pop_var = tf.get_variable(\"pop_var\", [depth], initializer=tf.ones_initializer(), trainable=False)\n",
    "\n",
    "    return tf.cond(\n",
    "        is_training,\n",
    "        lambda: _batch_norm(x, pop_mean, pop_var, mean, var, offset, scale),\n",
    "        lambda: _pop_batch_norm(x, pop_mean, pop_var, offset, scale)\n",
    "    )\n",
    "\n"
   ]
  },
  {
   "cell_type": "code",
   "execution_count": 15,
   "metadata": {},
   "outputs": [],
   "source": [
    "''' Hyperparameters '''\n",
    "\n",
    "\n",
    "batch_size = 32\n",
    "gen_maps_l1 = 64\n",
    "gen_maps_l2 = 32\n",
    "gen_maps_l3 = 16\n",
    "dis_maps_l1 = 8\n",
    "dis_maps_l2 = 16\n",
    "dis_maps_l3 = 32\n",
    "dim_z = (batch_size, 50)\n",
    "learn_rate = 0.0004\n",
    "beta1 = 0.5\n",
    "epochs = 2"
   ]
  },
  {
   "cell_type": "code",
   "execution_count": 16,
   "metadata": {},
   "outputs": [
    {
     "name": "stdout",
     "output_type": "stream",
     "text": [
      "Forward-Layer:(32, 50)\n",
      "layer-1 shape: (32, 4, 4, 64)\n",
      "Back-Conv-Layer:(32, 4, 4, 64)\n",
      "layer-2 shape: (32, 7, 7, 32)\n",
      "Back-Conv-Layer:(32, 7, 7, 32)\n",
      "layer-3 shape: (32, 14, 14, 16)\n",
      "Back-Conv-Layer:(32, 14, 14, 16)\n",
      "layer-4 shape: (32, 28, 28, 1)\n"
     ]
    }
   ],
   "source": [
    "''' Generator '''\n",
    "\n",
    "\n",
    "tf.reset_default_graph()\n",
    "\n",
    "with tf.variable_scope(\"generator\"):\n",
    "    \n",
    "    # Sample the random inputs to create vector z\n",
    "    z = tf.placeholder(tf.float32, dim_z)\n",
    "\n",
    "    is_training = tf.placeholder(tf.bool, None)\n",
    "\n",
    "    with tf.variable_scope(\"layer-1\"):\n",
    "        l1 = feed_forward_layer(z, gen_maps_l1 * 4 * 4, True, tf.nn.relu)\n",
    "        l1 = tf.reshape(l1, (batch_size, 4, 4, gen_maps_l1))\n",
    "        print(\"layer-1 shape:\", l1.shape)\n",
    "\n",
    "    with tf.variable_scope(\"layer-2\"):\n",
    "        l2 = back_conv_layer(l1, (batch_size, 7, 7, gen_maps_l2), (5, 5), 2, True, tf.nn.relu)\n",
    "        print(\"layer-2 shape:\", l2.shape)\n",
    "\n",
    "    with tf.variable_scope(\"layer-3\"):\n",
    "        l3 = back_conv_layer(l2, (batch_size, 14, 14, gen_maps_l3), (5, 5), 2, True, tf.nn.relu)\n",
    "        print(\"layer-3 shape:\", l3.shape)\n",
    "\n",
    "    with tf.variable_scope(\"layer-4\"):\n",
    "        l4 = back_conv_layer(l3, (batch_size, 28, 28, 1), (5, 5), 2, False, tf.nn.tanh)\n",
    "        print(\"layer-4 shape:\", l4.shape)"
   ]
  },
  {
   "cell_type": "code",
   "execution_count": 17,
   "metadata": {},
   "outputs": [
    {
     "name": "stdout",
     "output_type": "stream",
     "text": [
      "Conv-Layer:(64, 28, 28, 1)\n",
      "layer-5 shape: (64, 14, 14, 8)\n",
      "Conv-Layer:(64, 14, 14, 8)\n",
      "layer-6 shape: (64, 7, 7, 16)\n",
      "Conv-Layer:(64, 7, 7, 16)\n",
      "layer-7 shape: (64, 512)\n",
      "Forward-Layer:(64, 512)\n",
      "layer-8 shape: (64, 1)\n",
      "dis_labels shape: (64, 1)\n",
      "gen_labels shape: (32, 1)\n"
     ]
    }
   ],
   "source": [
    "''' Discriminator '''\n",
    "\n",
    "\n",
    "# concatenate original images\n",
    "real_images = tf.placeholder(tf.float32, [batch_size, 28, 28, 1])\n",
    "concat = tf.concat((l4, real_images), 0)\n",
    "\n",
    "with tf.variable_scope(\"discriminator\"):\n",
    "    with tf.variable_scope(\"layer-5\"):\n",
    "        l5 = conv_layer(concat, dis_maps_l1, 5, 2, False, tf.nn.leaky_relu)\n",
    "        print(\"layer-5 shape:\", l5.shape)\n",
    "\n",
    "    with tf.variable_scope(\"layer-6\"):\n",
    "        l6 = conv_layer(l5, dis_maps_l2, 5, 2, False, tf.nn.leaky_relu)\n",
    "        print(\"layer-6 shape:\", l6.shape)\n",
    "\n",
    "    with tf.variable_scope(\"layer-7\"):\n",
    "        l7 = conv_layer(l6, dis_maps_l3, 5, 2, False, tf.nn.leaky_relu)\n",
    "        l7 = tf.reshape(l7, (batch_size * 2, 4 * 4 * 32))\n",
    "        print(\"layer-7 shape:\", l7.shape)\n",
    "\n",
    "    with tf.variable_scope(\"layer-8\"):\n",
    "        l8 = feed_forward_layer(l7, 1, False, tf.nn.sigmoid)\n",
    "        print(\"layer-8 shape:\", l8.shape)\n",
    "\n",
    "        \n",
    "# generate labels\n",
    "\n",
    "dis_labels = tf.concat((tf.zeros((batch_size, 1)), tf.ones((batch_size, 1))), 0)\n",
    "print(\"dis_labels shape:\", dis_labels.shape)\n",
    "\n",
    "gen_labels = tf.ones((batch_size, 1))\n",
    "print(\"gen_labels shape:\", gen_labels.shape)\n",
    "\n",
    "\n",
    "# separate parameters\n",
    "\n",
    "trainable_variables = tf.trainable_variables()\n",
    "# Get weights of the generator and the distinguisher independently\n",
    "dis_variables = [var for var in trainable_variables if \"discriminator\" in var.name]\n",
    "gen_variables = [var for var in trainable_variables if \"generator\" in var.name]\n",
    "\n",
    "\n",
    "# ... define respective losses and two different optimizers ...\n",
    "\n",
    "dis_cross_entropy = tf.nn.sigmoid_cross_entropy_with_logits(labels=dis_labels, logits=l8)\n",
    "dis_cross_entropy = tf.reduce_mean(dis_cross_entropy)\n",
    "dis_optimizer = tf.train.AdamOptimizer(learn_rate, beta1)\n",
    "dis_training_step = dis_optimizer.minimize(dis_cross_entropy, var_list=dis_variables)\n",
    "tf.summary.scalar(\"dis_loss\", dis_cross_entropy)\n",
    "\n",
    "gen_cross_entropy = tf.nn.sigmoid_cross_entropy_with_logits(labels=gen_labels, logits=l8[:batch_size])\n",
    "gen_cross_entropy = tf.reduce_mean(gen_cross_entropy)\n",
    "gen_optimizer = tf.train.AdamOptimizer(learn_rate, beta1)\n",
    "gen_training_step = gen_optimizer.minimize(gen_cross_entropy, var_list=gen_variables)\n",
    "tf.summary.scalar(\"gen_loss\", gen_cross_entropy)\n",
    "\n",
    "merged_summaries = tf.summary.merge_all()"
   ]
  },
  {
   "cell_type": "code",
   "execution_count": 22,
   "metadata": {},
   "outputs": [
    {
     "name": "stdout",
     "output_type": "stream",
     "text": [
      "initialized\n",
      "Epoch: 1 Step: 1 Dis_Loss: 0.72406805 Gen_Loss: 0.47405607 Speed: -1.348073959350586\n"
     ]
    },
    {
     "data": {
      "image/png": "[encoded data removed]",
      "text/plain": [
       "<matplotlib.figure.Figure at 0x1194349e8>"
      ]
     },
     "metadata": {},
     "output_type": "display_data"
    },
    {
     "name": "stdout",
     "output_type": "stream",
     "text": [
      "Epoch: 1 Step: 500 Dis_Loss: 0.6932719 Gen_Loss: 0.69285357 Speed: -40.33379888534546\n"
     ]
    },
    {
     "data": {
      "image/png": "[encoded data removed]",
      "text/plain": [
       "<matplotlib.figure.Figure at 0x1133b5978>"
      ]
     },
     "metadata": {},
     "output_type": "display_data"
    },
    {
     "name": "stdout",
     "output_type": "stream",
     "text": [
      "Epoch: 1 Step: 1000 Dis_Loss: 0.6934787 Gen_Loss: 0.69248605 Speed: -38.59887480735779\n"
     ]
    },
    {
     "data": {
      "image/png": "[encoded data removed]",
      "text/plain": [
       "<matplotlib.figure.Figure at 0x114986240>"
      ]
     },
     "metadata": {},
     "output_type": "display_data"
    },
    {
     "name": "stdout",
     "output_type": "stream",
     "text": [
      "Epoch: 1 Step: 1500 Dis_Loss: 0.69318503 Gen_Loss: 0.69307107 Speed: -46.5216281414032\n"
     ]
    },
    {
     "data": {
      "image/png": "[encoded data removed]",
      "text/plain": [
       "<matplotlib.figure.Figure at 0x1146f64e0>"
      ]
     },
     "metadata": {},
     "output_type": "display_data"
    },
    {
     "name": "stdout",
     "output_type": "stream",
     "text": [
      "Epoch: 1 Step: 2000 Dis_Loss: 0.69316673 Gen_Loss: 0.6931075 Speed: -39.21267485618591\n"
     ]
    },
    {
     "data": {
      "image/png": "[encoded data removed]",
      "text/plain": [
       "<matplotlib.figure.Figure at 0x1146b1128>"
      ]
     },
     "metadata": {},
     "output_type": "display_data"
    },
    {
     "name": "stdout",
     "output_type": "stream",
     "text": [
      "Epoch: 2 Step: 2500 Dis_Loss: 0.6931577 Gen_Loss: 0.69312584 Speed: -42.35160684585571\n"
     ]
    },
    {
     "data": {
      "image/png": "[encoded data removed]",
      "text/plain": [
       "<matplotlib.figure.Figure at 0x114951f28>"
      ]
     },
     "metadata": {},
     "output_type": "display_data"
    },
    {
     "name": "stdout",
     "output_type": "stream",
     "text": [
      "Epoch: 2 Step: 3000 Dis_Loss: 0.6931536 Gen_Loss: 0.69313407 Speed: -46.87728691101074\n"
     ]
    },
    {
     "data": {
      "image/png": "[encoded data removed]",
      "text/plain": [
       "<matplotlib.figure.Figure at 0x1197f9240>"
      ]
     },
     "metadata": {},
     "output_type": "display_data"
    },
    {
     "name": "stdout",
     "output_type": "stream",
     "text": [
      "Epoch: 2 Step: 3500 Dis_Loss: 0.6931519 Gen_Loss: 0.6931374 Speed: -48.3798611164093\n"
     ]
    },
    {
     "data": {
      "image/png": "[encoded data removed]",
      "text/plain": [
       "<matplotlib.figure.Figure at 0x11a8cd7f0>"
      ]
     },
     "metadata": {},
     "output_type": "display_data"
    },
    {
     "name": "stdout",
     "output_type": "stream",
     "text": [
      "Epoch: 2 Step: 4000 Dis_Loss: 0.6931507 Gen_Loss: 0.6931399 Speed: -46.87469792366028\n"
     ]
    },
    {
     "data": {
      "image/png": "[encoded data removed]",
      "text/plain": [
       "<matplotlib.figure.Figure at 0x118854f60>"
      ]
     },
     "metadata": {},
     "output_type": "display_data"
    },
    {
     "name": "stdout",
     "output_type": "stream",
     "text": [
      "finished\n"
     ]
    }
   ],
   "source": [
    "''' Training '''\n",
    "\n",
    "\n",
    "train_writer = tf.summary.FileWriter(\"./summaries/train\", tf.get_default_graph())\n",
    "\n",
    "# accumulated losses for plotting\n",
    "acc_dis_loss = []\n",
    "acc_gen_loss = []\n",
    "\n",
    "with tf.Session() as sess:\n",
    "    sess.run(tf.global_variables_initializer())\n",
    "    saver = tf.train.Saver()\n",
    "    print(\"initialized\")\n",
    "\n",
    "    # track time\n",
    "    start = time.time()\n",
    "\n",
    "    # training step for plotting\n",
    "    step = 1\n",
    "\n",
    "    for epoch in range(1, epochs+1):\n",
    "\n",
    "        for batch in mnist_data.get_batch(batch_size):\n",
    "\n",
    "            # initialize input vector\n",
    "            z_init = np.random.uniform(size=dim_z, low=-1, high=1)\n",
    "\n",
    "            # values we want to retrieve\n",
    "            goal = [merged_summaries, dis_cross_entropy, gen_cross_entropy, dis_training_step, gen_training_step]\n",
    "\n",
    "            # values we feed in the graph\n",
    "            feed_dict = {z: z_init,\n",
    "                         real_images: batch,\n",
    "                         is_training: True\n",
    "                         }\n",
    "\n",
    "            # training steps\n",
    "            summaries, dis_loss, gen_loss, _, _ = sess.run(\n",
    "                goal,\n",
    "                feed_dict\n",
    "            )\n",
    "            \n",
    "            \n",
    "            # append for plotting\n",
    "            acc_dis_loss.append(dis_loss)\n",
    "            acc_gen_loss.append(gen_loss)\n",
    "            \n",
    "            train_writer.add_summary(summaries, step)\n",
    "\n",
    "            # status text\n",
    "            if step % 500 == 0 or step == 1:\n",
    "                print(\"Epoch:\", epoch,\n",
    "                      \"Step:\", step,\n",
    "                      \"Dis_Loss:\", dis_loss,\n",
    "                      \"Gen_Loss:\", gen_loss,\n",
    "                      \"Speed:\", start-time.time()\n",
    "                      )\n",
    "                \n",
    "                # show a example image\n",
    "                image = sess.run(l4, feed_dict = {z: z_init,\n",
    "                                                    is_training: False\n",
    "                                                    })\n",
    "                plt.imshow(np.squeeze(image[0]), cmap='gray')\n",
    "                plt.show()\n",
    "                \n",
    "                # reset time track\n",
    "                start = time.time()\n",
    "\n",
    "            step = step + 1\n",
    "\n",
    "\n",
    "    saver.save(sess, \"./weights/\", step)\n",
    "    print(\"finished\")"
   ]
  },
  {
   "cell_type": "code",
   "execution_count": 23,
   "metadata": {},
   "outputs": [
    {
     "data": {
      "image/png": "[encoded data removed]",
      "text/plain": [
       "<matplotlib.figure.Figure at 0x117516048>"
      ]
     },
     "metadata": {},
     "output_type": "display_data"
    }
   ],
   "source": [
    "''' Loss plot'''\n",
    "\n",
    "\n",
    "fig = plt.figure(figsize=(10,10))\n",
    "ax  = fig.add_subplot(111)\n",
    "ax.set_xlabel('Step')\n",
    "ax.set_ylabel('Loss')\n",
    "ax.plot(acc_dis_loss, label='Discriminator')\n",
    "ax.plot(acc_gen_loss, label='Generator')\n",
    "ax.legend()\n",
    "plt.show()"
   ]
  }
 ],
 "metadata": {
  "kernelspec": {
   "display_name": "Python 3",
   "language": "python",
   "name": "python3"
  },
  "language_info": {
   "codemirror_mode": {
    "name": "ipython",
    "version": 3
   },
   "file_extension": ".py",
   "mimetype": "text/x-python",
   "name": "python",
   "nbconvert_exporter": "python",
   "pygments_lexer": "ipython3",
   "version": "3.6.3"
  }
 },
 "nbformat": 4,
 "nbformat_minor": 2
}
