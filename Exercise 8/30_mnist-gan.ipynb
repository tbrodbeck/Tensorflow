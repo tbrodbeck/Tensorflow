{
 "cells": [
  {
   "cell_type": "code",
   "execution_count": 36,
   "metadata": {},
   "outputs": [],
   "source": [
    "import numpy as np\n",
    "import struct\n",
    "import os\n",
    "import tensorflow as tf\n",
    "import matplotlib.pyplot as plt\n",
    "\n",
    "\n",
    "\n",
    "''' Helper class '''\n",
    "\n",
    "\n",
    "class MNIST_GAN():\n",
    "    def __init__(self, directory=\"\"):\n",
    "        self._directory = directory\n",
    "\n",
    "        self._data = self._load_binaries(\"train-images-idx3-ubyte\")\n",
    "        self._data = np.append(self._data, self._load_binaries(\"t10k-images-idx3-ubyte\"), axis=0)\n",
    "        self._data = ((self._data / 255) * 2) - 1\n",
    "        self._data = self._data.reshape([-1, 28, 28, 1])\n",
    "\n",
    "    def _load_binaries(self, file_name):\n",
    "        path = os.path.join(self._directory, file_name)\n",
    "\n",
    "        with open(path, 'rb') as fd:\n",
    "            check, items_n = struct.unpack(\">ii\", fd.read(8))\n",
    "\n",
    "            if \"images\" in file_name and check == 2051:\n",
    "                height, width = struct.unpack(\">II\", fd.read(8))\n",
    "                images = np.fromfile(fd, dtype='uint8')\n",
    "                return np.reshape(images, (items_n, height, width))\n",
    "            else:\n",
    "                raise ValueError(\"Not a MNIST file: \" + path)\n",
    "\n",
    "    def get_batch(self, batch_size):\n",
    "        samples_n = self._data.shape[0]\n",
    "        if batch_size <= 0:\n",
    "            batch_size = samples_n\n",
    "\n",
    "        random_indices = np.random.choice(samples_n, samples_n, replace=False)\n",
    "        data = self._data[random_indices]\n",
    "\n",
    "        for i in range(samples_n // batch_size):\n",
    "            on = i * batch_size\n",
    "            off = on + batch_size\n",
    "            yield data[on:off]\n",
    "\n",
    "\n",
    "mnist_data = MNIST_GAN()"
   ]
  },
  {
   "cell_type": "code",
   "execution_count": 35,
   "metadata": {},
   "outputs": [
    {
     "name": "stdout",
     "output_type": "stream",
     "text": [
      "(28, 28)\n"
     ]
    },
    {
     "data": {
      "image/png": "[encoded data removed]",
      "text/plain": [
       "<matplotlib.figure.Figure at 0x1246e0e48>"
      ]
     },
     "metadata": {},
     "output_type": "display_data"
    }
   ],
   "source": [
    "''' Investigate Data '''\n",
    "\n",
    "\n",
    "pixels = (mnist_data._data[0])\n",
    "pixels = np.squeeze(pixels)\n",
    "print(pixels.shape)\n",
    "plt.imshow(pixels, cmap='gray')\n",
    "plt.show()"
   ]
  },
  {
   "cell_type": "code",
   "execution_count": 37,
   "metadata": {},
   "outputs": [],
   "source": [
    "''' Layer functions '''\n",
    "\n",
    "\n",
    "def feed_forward_layer(x, target_size, normalize=False, activation_function=None):\n",
    "    print(\"Forward-Layer:\" + str(x.shape))\n",
    "\n",
    "    fan_in = int(x.shape[-1])\n",
    "\n",
    "    if activation_function == tf.nn.relu:\n",
    "        var_init = tf.random_normal_initializer(stddev=2 / fan_in)\n",
    "    else:\n",
    "        var_init = tf.random_normal_initializer(stddev=fan_in ** (-1 / 2))\n",
    "    weights = tf.get_variable(\"weights\", [x.shape[1], target_size], tf.float32, var_init)\n",
    "\n",
    "    var_init = tf.constant_initializer(0.0)\n",
    "    biases = tf.get_variable(\"biases\", [target_size], tf.float32, var_init)\n",
    "\n",
    "    activation = tf.matmul(x, weights) + biases\n",
    "\n",
    "    if normalize:\n",
    "        activation = batch_norm(activation, [0])\n",
    "\n",
    "    return activation_function(activation) if callable(activation_function) else activation\n",
    "\n",
    "\n",
    "def conv_layer(x, kernel_quantity, kernel_size, stride_size, normalize=False, activation_function=False):\n",
    "    print(\"Conv-Layer:\" + str(x.shape))\n",
    "    depth = x.shape[-1]\n",
    "    fan_in = int(x.shape[1] * x.shape[2])\n",
    "\n",
    "    if activation_function == tf.nn.relu or activation_function == tf.nn.leaky_relu:\n",
    "        var_init = tf.random_normal_initializer(stddev=2 / fan_in)\n",
    "    else:\n",
    "        var_init = tf.random_normal_initializer(stddev=fan_in ** (-1 / 2))\n",
    "    kernels = tf.get_variable(\"kernels\", [kernel_size, kernel_size, depth, kernel_quantity], tf.float32, var_init)\n",
    "\n",
    "    var_init = tf.constant_initializer(0.0)\n",
    "    biases = tf.get_variable(\"biases\", [kernel_quantity], initializer=var_init)\n",
    "\n",
    "    activation = tf.nn.conv2d(x, kernels, strides=[1, stride_size, stride_size, 1], padding=\"SAME\") + biases\n",
    "\n",
    "    if normalize:\n",
    "        activation = batch_norm(activation, [0, 1, 2])\n",
    "\n",
    "    return activation_function(activation) if callable(activation_function) else activation\n",
    "\n",
    "\n",
    "def back_conv_layer(x, target_shape, kernel_size, stride_size, normalize=False, activation_function=False):\n",
    "    pass\n",
    "\n",
    "\n",
    "def flatten(x):\n",
    "    size = int(np.prod(x.shape[1:]))\n",
    "    return tf.reshape(x, [-1, size])\n",
    "\n",
    "\n",
    "def _pop_batch_norm(x, pop_mean, pop_var, offset, scale):\n",
    "    return tf.nn.batch_normalization(x, pop_mean, pop_var, offset, scale, 1e-6)\n",
    "\n",
    "\n",
    "def _batch_norm(x, pop_mean, pop_var, mean, var, offset, scale):\n",
    "    decay = 0.99\n",
    "\n",
    "    dependency_1 = tf.assign(pop_mean, pop_mean * decay + mean * (1 - decay))\n",
    "    dependency_2 = tf.assign(pop_var, pop_var * decay + var * (1 - decay))\n",
    "\n",
    "    with tf.control_dependencies([dependency_1, dependency_2]):\n",
    "        return tf.nn.batch_normalization(x, mean, var, offset, scale, 1e-6)\n",
    "\n",
    "\n",
    "def batch_norm(x, axes):\n",
    "    depth = x.shape[-1]\n",
    "    mean, var = tf.nn.moments(x, axes=axes)\n",
    "\n",
    "    var_init = tf.constant_initializer(0.0)\n",
    "    offset = tf.get_variable(\"offset\", [depth], tf.float32, var_init)\n",
    "    var_init = tf.constant_initializer(1.0)\n",
    "    scale = tf.get_variable(\"scale\", [depth], tf.float32, var_init)\n",
    "\n",
    "    pop_mean = tf.get_variable(\"pop_mean\", [depth], initializer=tf.zeros_initializer(), trainable=False)\n",
    "    pop_var = tf.get_variable(\"pop_var\", [depth], initializer=tf.ones_initializer(), trainable=False)\n",
    "\n",
    "    return tf.cond(\n",
    "        is_training,\n",
    "        lambda: _batch_norm(x, pop_mean, pop_var, mean, var, offset, scale),\n",
    "        lambda: _pop_batch_norm(x, pop_mean, pop_var, offset, scale)\n",
    "    )"
   ]
  },
  {
   "cell_type": "code",
   "execution_count": 38,
   "metadata": {},
   "outputs": [
    {
     "data": {
      "text/plain": [
       "' '"
      ]
     },
     "execution_count": 38,
     "metadata": {},
     "output_type": "execute_result"
    }
   ],
   "source": [
    "''' Hyperparameters '''\n",
    "\n",
    "\n",
    "amount_real_images = 32\n",
    "amount_fake_images = 32\n",
    "amount_generator_maps_l1 = 64\n",
    "amount_generator_maps_l2 = 32\n",
    "amount_generator_maps_l3 = 16\n",
    "amount_discrimninator_maps_l1 = 8\n",
    "amount_discrimninator_maps_l2 = 16\n",
    "amount_discrimninator_maps_l3 = 32\n",
    "dimensionality_z = 50\n",
    "learning_rate = 0.0004\n",
    "beta1_adam_optmimizer = 0.5\n",
    "epochs = 2\n",
    "\n",
    "\n",
    "\n",
    "''' '''"
   ]
  }
 ],
 "metadata": {
  "kernelspec": {
   "display_name": "Python 3",
   "language": "python",
   "name": "python3"
  },
  "language_info": {
   "codemirror_mode": {
    "name": "ipython",
    "version": 3
   },
   "file_extension": ".py",
   "mimetype": "text/x-python",
   "name": "python",
   "nbconvert_exporter": "python",
   "pygments_lexer": "ipython3",
   "version": "3.6.3"
  }
 },
 "nbformat": 4,
 "nbformat_minor": 2
}
