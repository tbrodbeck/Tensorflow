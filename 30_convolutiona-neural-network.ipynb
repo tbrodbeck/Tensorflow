{
 "cells": [
  {
   "cell_type": "code",
   "execution_count": null,
   "metadata": {
    "collapsed": true
   },
   "outputs": [],
   "source": [
    "import tensorflow as tf\n",
    "import numpy as np\n",
    "import matplotlib.pyplot as plt\n",
    "%matplotlib notebook  \n",
    "\n",
    "import cifar_helper\n",
    "\n",
    "cifar = cifar_helper.CIFAR(\"./cifar_10_batches_py/\")"
   ]
  },
  {
   "cell_type": "code",
   "execution_count": null,
   "metadata": {},
   "outputs": [],
   "source": [
    "images, label = next(cifar.get_training_batch(12))\n",
    "\n",
    "fig, axes = plt.subplots(3, 4)\n",
    "for i, ax in enumerate(np.reshape(axes, [-1])):\n",
    "    ax.imshow(images[i])\n",
    "    ax.xaxis.set_visible(False)\n",
    "    ax.yaxis.set_visible(False)\n",
    "    ax.set_title(label[i])"
   ]
  },
  {
   "cell_type": "markdown",
   "metadata": {},
   "source": [
    "In order to get an idea of the complexity of the network structure, think about the following two questions: How many neurons are simulated? \n",
    "\n",
    "There are 16*32*32 + 16*16*16 + 32*16*16 + 32*8*8 + 512 + 10 = 31242 Neurons.\n",
    "\n",
    "How many degrees of freedom (weights) does the network have? \n",
    "\n",
    "16*5*5*3 + 16 + 32*3*3*16 + 32*8*8*512 + 32*8*8 + 512 * 10 + 10\n",
    "\n",
    "Of many ﬂoating-point operations are necessary for a forward pass of the network? (Write down your answer!)"
   ]
  },
  {
   "cell_type": "code",
   "execution_count": null,
   "metadata": {},
   "outputs": [],
   "source": [
    "#input\n",
    "x = tf.placeholder(tf.float32, [None, 32,32,3])\n",
    "#layer1\n",
    "kernel_l1 = tf.Variable(tf.zeros([16,5,5,3]))\n",
    "bias_l1 = \n",
    "#layer3\n",
    "kernel_l3 = tf.Variable(tf.zeros([32,3,3,16]))\n",
    "#layer5\n",
    "weights_l5 = tf.Variable(tf.zeros([32,8,8,512]))"
   ]
  }
 ],
 "metadata": {
  "kernelspec": {
   "display_name": "Python 3",
   "language": "python",
   "name": "python3"
  },
  "language_info": {
   "codemirror_mode": {
    "name": "ipython",
    "version": 3
   },
   "file_extension": ".py",
   "mimetype": "text/x-python",
   "name": "python",
   "nbconvert_exporter": "python",
   "pygments_lexer": "ipython3",
   "version": "3.6.1"
  }
 },
 "nbformat": 4,
 "nbformat_minor": 2
}
